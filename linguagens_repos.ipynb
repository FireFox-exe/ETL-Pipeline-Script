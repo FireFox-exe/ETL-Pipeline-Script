{
 "cells": [
  {
   "cell_type": "markdown",
   "id": "595c8126",
   "metadata": {},
   "source": [
    "# API GitHub"
   ]
  },
  {
   "cell_type": "code",
   "execution_count": 66,
   "id": "f721b1b5",
   "metadata": {},
   "outputs": [],
   "source": [
    "import requests "
   ]
  },
  {
   "cell_type": "code",
   "execution_count": 67,
   "id": "845f9df5",
   "metadata": {},
   "outputs": [],
   "source": [
    "r = requests.get('https://api.github.com/events')"
   ]
  },
  {
   "cell_type": "code",
   "execution_count": 68,
   "id": "7aa17d6b",
   "metadata": {},
   "outputs": [
    {
     "data": {
      "text/plain": [
       "<Response [200]>"
      ]
     },
     "execution_count": 68,
     "metadata": {},
     "output_type": "execute_result"
    }
   ],
   "source": [
    "r "
   ]
  },
  {
   "cell_type": "code",
   "execution_count": 69,
   "id": "4d4ec89e",
   "metadata": {},
   "outputs": [
    {
     "data": {
      "text/plain": [
       "200"
      ]
     },
     "execution_count": 69,
     "metadata": {},
     "output_type": "execute_result"
    }
   ],
   "source": [
    "r = requests.get('https://api.github.com/versions')\n",
    "r.status_code"
   ]
  },
  {
   "cell_type": "code",
   "execution_count": 70,
   "id": "b30525a3",
   "metadata": {},
   "outputs": [
    {
     "data": {
      "text/plain": [
       "['2022-11-28']"
      ]
     },
     "execution_count": 70,
     "metadata": {},
     "output_type": "execute_result"
    }
   ],
   "source": [
    "r.json()"
   ]
  },
  {
   "cell_type": "markdown",
   "id": "4f6edea2",
   "metadata": {},
   "source": [
    "# Extract"
   ]
  },
  {
   "cell_type": "code",
   "execution_count": 71,
   "id": "5d23177b",
   "metadata": {},
   "outputs": [],
   "source": [
    "# especificando vrssão da API \n",
    "headers = {'X-GitHub-Api-Versions':'2022-11-28'}"
   ]
  },
  {
   "cell_type": "code",
   "execution_count": 72,
   "id": "e3326196",
   "metadata": {},
   "outputs": [],
   "source": [
    "api_base_url = 'https://api.github.com'\n",
    "owner = 'amzn' # user de quem vamos extrair os dados\n",
    "url = f'{api_base_url}/users/{owner}/repos'\n"
   ]
  },
  {
   "cell_type": "code",
   "execution_count": 73,
   "id": "07e63fc1",
   "metadata": {},
   "outputs": [
    {
     "data": {
      "text/plain": [
       "'https://api.github.com/users/amzn/repos'"
      ]
     },
     "execution_count": 73,
     "metadata": {},
     "output_type": "execute_result"
    }
   ],
   "source": [
    "url"
   ]
  },
  {
   "cell_type": "code",
   "execution_count": 74,
   "id": "1a79dc08",
   "metadata": {},
   "outputs": [
    {
     "data": {
      "text/plain": [
       "200"
      ]
     },
     "execution_count": 74,
     "metadata": {},
     "output_type": "execute_result"
    }
   ],
   "source": [
    "response = requests.get(url, headers=headers)\n",
    "response.status_code"
   ]
  },
  {
   "cell_type": "code",
   "execution_count": 75,
   "id": "1219e12c",
   "metadata": {},
   "outputs": [
    {
     "data": {
      "text/plain": [
       "30"
      ]
     },
     "execution_count": 75,
     "metadata": {},
     "output_type": "execute_result"
    }
   ],
   "source": [
    "len(response.json())"
   ]
  },
  {
   "cell_type": "markdown",
   "id": "a072df0e",
   "metadata": {},
   "source": [
    "# Authorization"
   ]
  },
  {
   "cell_type": "code",
   "execution_count": null,
   "id": "fc5611b6",
   "metadata": {},
   "outputs": [],
   "source": [
    "import os\n",
    "access_token = os.getenv('TOKEN_GITHUB')\n",
    "headers = {'Authorization': f'Bearer {access_token}','X-GitHub-Api-Versions':'2022-11-28'}"
   ]
  },
  {
   "cell_type": "markdown",
   "id": "cda5d32d",
   "metadata": {},
   "source": [
    "# Pagination"
   ]
  },
  {
   "cell_type": "code",
   "execution_count": 77,
   "id": "47017045",
   "metadata": {},
   "outputs": [],
   "source": [
    "#lista de paginas + .json()\n",
    "repos_list = [] # lista composta por sub listas.\n",
    "for page_num in range(1,6):\n",
    "    params = {'page': page_num,'per_page': 100} # de 100 em 100 ate a 5 page.\n",
    "    try:\n",
    "        response = requests.get(url,headers=headers,params=params)\n",
    "        if response.status_code == 200:\n",
    "            repos_list.append(response.json())\n",
    "        else:\n",
    "            print(f'Página {page_num} retornou status {response.status_code}')\n",
    "            repos_list.append(None)\n",
    "    except Exception as e:\n",
    "        print(f'Erro ao acessar página {page_num}: {e}')\n",
    "        repos_list.append(None)"
   ]
  },
  {
   "cell_type": "code",
   "execution_count": 78,
   "id": "9e34d263",
   "metadata": {},
   "outputs": [
    {
     "data": {
      "text/plain": [
       "5"
      ]
     },
     "execution_count": 78,
     "metadata": {},
     "output_type": "execute_result"
    }
   ],
   "source": [
    "len(repos_list) # paginas"
   ]
  },
  {
   "cell_type": "code",
   "execution_count": 79,
   "id": "6545ac63",
   "metadata": {},
   "outputs": [
    {
     "data": {
      "text/plain": [
       "100"
      ]
     },
     "execution_count": 79,
     "metadata": {},
     "output_type": "execute_result"
    }
   ],
   "source": [
    "len(repos_list[0]) # conteudo"
   ]
  },
  {
   "cell_type": "markdown",
   "id": "31f3425c",
   "metadata": {},
   "source": [
    "# Transform "
   ]
  },
  {
   "cell_type": "code",
   "execution_count": 80,
   "id": "300010c0",
   "metadata": {},
   "outputs": [
    {
     "data": {
      "text/plain": [
       "'alexa-coho'"
      ]
     },
     "execution_count": 80,
     "metadata": {},
     "output_type": "execute_result"
    }
   ],
   "source": [
    "repos_list[0][4]['name'] # abre uma das listas e checa dados(name)"
   ]
  },
  {
   "cell_type": "code",
   "execution_count": 81,
   "id": "ab53fc1d",
   "metadata": {},
   "outputs": [],
   "source": [
    "repos_name = []\n",
    "for page in repos_list: # lista com varias listas\n",
    "    if page is not None:\n",
    "        for repo in page: # dentro de uma das listas\n",
    "            repos_name.append(repo['name']) # adiciona o nome dentro de cada uma das listas da lista de listas.\n",
    "\n"
   ]
  },
  {
   "cell_type": "code",
   "execution_count": 82,
   "id": "cca5ac16",
   "metadata": {},
   "outputs": [
    {
     "data": {
      "text/plain": [
       "162"
      ]
     },
     "execution_count": 82,
     "metadata": {},
     "output_type": "execute_result"
    }
   ],
   "source": [
    "len(repos_name) # checando se pegou todos os repositorios da API."
   ]
  },
  {
   "cell_type": "code",
   "execution_count": 83,
   "id": "0f30bc9d",
   "metadata": {},
   "outputs": [
    {
     "data": {
      "text/plain": [
       "['.github',\n",
       " 'ads-advanced-tools-docs',\n",
       " 'ads-pao-amznjs-gtm-server-side-template',\n",
       " 'ads-pao-amznjs-gtm-template',\n",
       " 'alexa-coho',\n",
       " 'alexa-skills-kit-js',\n",
       " 'amazon-ads-advertiser-audience-normalization-sdk-py',\n",
       " 'amazon-advertising-api-php-sdk',\n",
       " 'amazon-codeguru-profiler-for-spark',\n",
       " 'amazon-frustration-free-setup-certification-tool']"
      ]
     },
     "execution_count": 83,
     "metadata": {},
     "output_type": "execute_result"
    }
   ],
   "source": [
    "repos_name[:10]"
   ]
  },
  {
   "cell_type": "code",
   "execution_count": 84,
   "id": "b9312b76",
   "metadata": {},
   "outputs": [],
   "source": [
    "repos_lang = []\n",
    "for page in repos_list:\n",
    "    if page is not None:\n",
    "        for repos in page:\n",
    "            repos_lang.append(repos['language'])"
   ]
  },
  {
   "cell_type": "code",
   "execution_count": 85,
   "id": "576da6f2",
   "metadata": {},
   "outputs": [
    {
     "data": {
      "text/plain": [
       "[None, 'Jupyter Notebook', 'Smarty', 'Smarty', 'JavaScript']"
      ]
     },
     "execution_count": 85,
     "metadata": {},
     "output_type": "execute_result"
    }
   ],
   "source": [
    "repos_lang[:5]"
   ]
  },
  {
   "cell_type": "code",
   "execution_count": 86,
   "id": "044d39f5",
   "metadata": {},
   "outputs": [
    {
     "data": {
      "text/plain": [
       "162"
      ]
     },
     "execution_count": 86,
     "metadata": {},
     "output_type": "execute_result"
    }
   ],
   "source": [
    "len(repos_lang)"
   ]
  },
  {
   "cell_type": "markdown",
   "id": "7de9d6ae",
   "metadata": {},
   "source": [
    "# DataFrame"
   ]
  },
  {
   "cell_type": "code",
   "execution_count": 87,
   "id": "a0d40f48",
   "metadata": {},
   "outputs": [],
   "source": [
    "import pandas as pd"
   ]
  },
  {
   "cell_type": "code",
   "execution_count": 88,
   "id": "310f4907",
   "metadata": {},
   "outputs": [],
   "source": [
    "dados_amz = pd.DataFrame() # fazendo o DF\n",
    "dados_amz['repository Name'] = repos_name # criando coluna para lista de names.\n",
    "dados_amz['Languages'] = repos_lang # coluna de linguagens usadas."
   ]
  },
  {
   "cell_type": "code",
   "execution_count": 89,
   "id": "1b9e3be1",
   "metadata": {},
   "outputs": [
    {
     "data": {
      "text/html": [
       "<div>\n",
       "<style scoped>\n",
       "    .dataframe tbody tr th:only-of-type {\n",
       "        vertical-align: middle;\n",
       "    }\n",
       "\n",
       "    .dataframe tbody tr th {\n",
       "        vertical-align: top;\n",
       "    }\n",
       "\n",
       "    .dataframe thead th {\n",
       "        text-align: right;\n",
       "    }\n",
       "</style>\n",
       "<table border=\"1\" class=\"dataframe\">\n",
       "  <thead>\n",
       "    <tr style=\"text-align: right;\">\n",
       "      <th></th>\n",
       "      <th>repository Name</th>\n",
       "      <th>Languages</th>\n",
       "    </tr>\n",
       "  </thead>\n",
       "  <tbody>\n",
       "    <tr>\n",
       "      <th>0</th>\n",
       "      <td>.github</td>\n",
       "      <td>None</td>\n",
       "    </tr>\n",
       "    <tr>\n",
       "      <th>1</th>\n",
       "      <td>ads-advanced-tools-docs</td>\n",
       "      <td>Jupyter Notebook</td>\n",
       "    </tr>\n",
       "    <tr>\n",
       "      <th>2</th>\n",
       "      <td>ads-pao-amznjs-gtm-server-side-template</td>\n",
       "      <td>Smarty</td>\n",
       "    </tr>\n",
       "    <tr>\n",
       "      <th>3</th>\n",
       "      <td>ads-pao-amznjs-gtm-template</td>\n",
       "      <td>Smarty</td>\n",
       "    </tr>\n",
       "    <tr>\n",
       "      <th>4</th>\n",
       "      <td>alexa-coho</td>\n",
       "      <td>JavaScript</td>\n",
       "    </tr>\n",
       "    <tr>\n",
       "      <th>...</th>\n",
       "      <td>...</td>\n",
       "      <td>...</td>\n",
       "    </tr>\n",
       "    <tr>\n",
       "      <th>157</th>\n",
       "      <td>zeek-plugin-enip</td>\n",
       "      <td>Zeek</td>\n",
       "    </tr>\n",
       "    <tr>\n",
       "      <th>158</th>\n",
       "      <td>zeek-plugin-profinet</td>\n",
       "      <td>Zeek</td>\n",
       "    </tr>\n",
       "    <tr>\n",
       "      <th>159</th>\n",
       "      <td>zeek-plugin-s7comm</td>\n",
       "      <td>Zeek</td>\n",
       "    </tr>\n",
       "    <tr>\n",
       "      <th>160</th>\n",
       "      <td>zeek-plugin-tds</td>\n",
       "      <td>Zeek</td>\n",
       "    </tr>\n",
       "    <tr>\n",
       "      <th>161</th>\n",
       "      <td>zero-shot-rlhr</td>\n",
       "      <td>Python</td>\n",
       "    </tr>\n",
       "  </tbody>\n",
       "</table>\n",
       "<p>162 rows × 2 columns</p>\n",
       "</div>"
      ],
      "text/plain": [
       "                             repository Name         Languages\n",
       "0                                    .github              None\n",
       "1                    ads-advanced-tools-docs  Jupyter Notebook\n",
       "2    ads-pao-amznjs-gtm-server-side-template            Smarty\n",
       "3                ads-pao-amznjs-gtm-template            Smarty\n",
       "4                                 alexa-coho        JavaScript\n",
       "..                                       ...               ...\n",
       "157                         zeek-plugin-enip              Zeek\n",
       "158                     zeek-plugin-profinet              Zeek\n",
       "159                       zeek-plugin-s7comm              Zeek\n",
       "160                          zeek-plugin-tds              Zeek\n",
       "161                           zero-shot-rlhr            Python\n",
       "\n",
       "[162 rows x 2 columns]"
      ]
     },
     "execution_count": 89,
     "metadata": {},
     "output_type": "execute_result"
    }
   ],
   "source": [
    "# checagem \n",
    "dados_amz"
   ]
  },
  {
   "cell_type": "code",
   "execution_count": 90,
   "id": "f5e88eb1",
   "metadata": {},
   "outputs": [],
   "source": [
    "dados_amz.to_csv('amazon.csv')"
   ]
  },
  {
   "cell_type": "markdown",
   "id": "2b7cca93",
   "metadata": {},
   "source": [
    "# Load\n",
    "## via API no repositorios do github"
   ]
  },
  {
   "cell_type": "code",
   "execution_count": 91,
   "id": "128e45c4",
   "metadata": {},
   "outputs": [
    {
     "data": {
      "text/plain": [
       "'https://api.github.com/user/repos'"
      ]
     },
     "execution_count": 91,
     "metadata": {},
     "output_type": "execute_result"
    }
   ],
   "source": [
    "api_base_url = 'https://api.github.com' # api de antes\n",
    "url = f'{api_base_url}/user/repos'\n",
    "url"
   ]
  },
  {
   "cell_type": "code",
   "execution_count": 92,
   "id": "0bff3267",
   "metadata": {},
   "outputs": [
    {
     "data": {
      "text/plain": [
       "201"
      ]
     },
     "execution_count": 92,
     "metadata": {},
     "output_type": "execute_result"
    }
   ],
   "source": [
    "# criando repositorio POST\n",
    "data = {\n",
    "    'name':'linguagens_utilizadas',\n",
    "    'description':'Repositorio com linguages de Prog Amazon',\n",
    "    'private': False # true == privado | false == publico\n",
    "}\n",
    "\n",
    "response = requests.post(url, json=data, headers=headers) # esse codigo vai criar o repositorio com as caractericas de data\n",
    "response.status_code"
   ]
  },
  {
   "cell_type": "code",
   "execution_count": 93,
   "id": "f181728f",
   "metadata": {},
   "outputs": [],
   "source": [
    "# colocando o arquivo no formato base64\n",
    "import base64 "
   ]
  },
  {
   "cell_type": "code",
   "execution_count": 94,
   "id": "e990f60f",
   "metadata": {},
   "outputs": [],
   "source": [
    "with open('amazon.csv', 'rb') as file: # lê o arquivo csv em binario\n",
    "    file_content = file.read()\n",
    "\n",
    "encoded_content = base64.b64encode(file_content) #arquivo base64 da DF na variavel enconded_content"
   ]
  },
  {
   "cell_type": "code",
   "execution_count": 95,
   "id": "baabdbe3",
   "metadata": {},
   "outputs": [
    {
     "data": {
      "text/plain": [
       "'https://api.github.com/repos/FireFox-exe/linguagens_utilizadas/contents/amazon.csv'"
      ]
     },
     "execution_count": 95,
     "metadata": {},
     "output_type": "execute_result"
    }
   ],
   "source": [
    "#subindo o arquivo para o repositorio\n",
    "api_base_url = 'https://api.github.com'\n",
    "username = 'FireFox-exe'\n",
    "repo = 'linguagens_utilizadas'\n",
    "path = 'amazon.csv'\n",
    "\n",
    "url = f'{api_base_url}/repos/{username}/{repo}/contents/{path}'\n",
    "url"
   ]
  },
  {
   "cell_type": "code",
   "execution_count": 96,
   "id": "dfca89af",
   "metadata": {},
   "outputs": [
    {
     "data": {
      "text/plain": [
       "201"
      ]
     },
     "execution_count": 96,
     "metadata": {},
     "output_type": "execute_result"
    }
   ],
   "source": [
    "# PUT\n",
    "data = {\n",
    "    'message': 'adicionando novo arquivo',\n",
    "    'content': encoded_content.decode('utf-8') # de base4 para texto\n",
    "}\n",
    "\n",
    "response = requests.put(url, json=data, headers=headers)\n",
    "response.status_code"
   ]
  }
 ],
 "metadata": {
  "kernelspec": {
   "display_name": "Python 3",
   "language": "python",
   "name": "python3"
  },
  "language_info": {
   "codemirror_mode": {
    "name": "ipython",
    "version": 3
   },
   "file_extension": ".py",
   "mimetype": "text/x-python",
   "name": "python",
   "nbconvert_exporter": "python",
   "pygments_lexer": "ipython3",
   "version": "3.12.1"
  }
 },
 "nbformat": 4,
 "nbformat_minor": 5
}
